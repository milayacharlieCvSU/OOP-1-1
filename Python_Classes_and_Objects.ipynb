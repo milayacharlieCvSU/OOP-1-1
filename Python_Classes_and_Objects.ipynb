{
  "nbformat": 4,
  "nbformat_minor": 0,
  "metadata": {
    "colab": {
      "name": "Python Classes and Objects.ipynb",
      "provenance": [],
      "collapsed_sections": [],
      "authorship_tag": "ABX9TyPMG5BsMBED5lpQpTkceIdR",
      "include_colab_link": true
    },
    "kernelspec": {
      "name": "python3",
      "display_name": "Python 3"
    },
    "language_info": {
      "name": "python"
    }
  },
  "cells": [
    {
      "cell_type": "markdown",
      "metadata": {
        "id": "view-in-github",
        "colab_type": "text"
      },
      "source": [
        "<a href=\"https://colab.research.google.com/github/milayacharlieCvSU/OOP-1-1/blob/main/Python_Classes_and_Objects.ipynb\" target=\"_parent\"><img src=\"https://colab.research.google.com/assets/colab-badge.svg\" alt=\"Open In Colab\"/></a>"
      ]
    },
    {
      "cell_type": "markdown",
      "source": [
        "Class"
      ],
      "metadata": {
        "id": "l2tD3expzX6q"
      }
    },
    {
      "cell_type": "code",
      "execution_count": 1,
      "metadata": {
        "id": "2Da_NsBuzOiJ"
      },
      "outputs": [],
      "source": [
        "# Class without Attributes and methods\n",
        "class MyClass:\n",
        "  pass"
      ]
    },
    {
      "cell_type": "code",
      "source": [
        "# Creat a class with Attributes and Methods\n",
        "class MyClass:\n",
        "  def __init__(self, name, age):\n",
        "    # Attributes\n",
        "    self.name = name\n",
        "    self.age = age\n",
        "\n",
        "  # Method\n",
        "  def display(self):\n",
        "    print(self.name, self.age, \"years old\")\n",
        "\n",
        "# Object Name Creation\n",
        "person = MyClass(\"Charlie MIlaya\", 18)\n",
        "\n",
        "person.display()"
      ],
      "metadata": {
        "colab": {
          "base_uri": "https://localhost:8080/"
        },
        "id": "HS0PC1Rnztoh",
        "outputId": "4b04407d-7dc5-4d03-cf42-f4cd606811ec"
      },
      "execution_count": 3,
      "outputs": [
        {
          "output_type": "stream",
          "name": "stdout",
          "text": [
            "Charlie MIlaya 18 years old\n"
          ]
        }
      ]
    },
    {
      "cell_type": "code",
      "source": [
        "# Application 1 - Write a Python program involving classes that computes for \n",
        "# the area of a rectangle. Formula: A = l*w\n",
        "\n",
        "class Rectangle:\n",
        "  def __init__(self, length, width):\n",
        "    # Attibutes\n",
        "    self.length = length\n",
        "    self.width = width\n",
        "  \n",
        "  # Method\n",
        "  def area(self):\n",
        "    print(self.length * self.width)\n",
        "\n",
        "rect1 = Rectangle(7, 3)\n",
        "rect1.area()"
      ],
      "metadata": {
        "colab": {
          "base_uri": "https://localhost:8080/"
        },
        "id": "G3w_A8zi0AAq",
        "outputId": "5648f1d0-f96c-4f71-f2e6-c8119e428b13"
      },
      "execution_count": 6,
      "outputs": [
        {
          "output_type": "stream",
          "name": "stdout",
          "text": [
            "21\n"
          ]
        }
      ]
    }
  ]
}
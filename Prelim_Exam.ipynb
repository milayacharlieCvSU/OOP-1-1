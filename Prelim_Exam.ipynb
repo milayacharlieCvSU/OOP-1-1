{
  "nbformat": 4,
  "nbformat_minor": 0,
  "metadata": {
    "colab": {
      "name": "Prelim Exam.ipynb",
      "provenance": [],
      "authorship_tag": "ABX9TyPr6ITJZsu0bxgP62Cf1Aj3",
      "include_colab_link": true
    },
    "kernelspec": {
      "name": "python3",
      "display_name": "Python 3"
    },
    "language_info": {
      "name": "python"
    }
  },
  "cells": [
    {
      "cell_type": "markdown",
      "metadata": {
        "id": "view-in-github",
        "colab_type": "text"
      },
      "source": [
        "<a href=\"https://colab.research.google.com/github/milayacharlieCvSU/OOP-1-1/blob/main/Prelim_Exam.ipynb\" target=\"_parent\"><img src=\"https://colab.research.google.com/assets/colab-badge.svg\" alt=\"Open In Colab\"/></a>"
      ]
    },
    {
      "cell_type": "markdown",
      "source": [
        "##### Programming Problem 2"
      ],
      "metadata": {
        "id": "Sa5HyVkB4lwu"
      }
    },
    {
      "cell_type": "markdown",
      "source": [
        "1. Write a Python to display your full name, student number, age, and course\n",
        "2. Create a class named Student with attributes: Name, Student_No, Age, School, and Course.\n",
        "3. Create an object name Myself and assign an instance for each attribute.\n",
        "4. Create a method Info() using an instantiation of a class.\n",
        "5. Insert your GitHub link &quot;Prelim Exam&quot; from your repository named &quot;OOP 1-1&quot;"
      ],
      "metadata": {
        "id": "-I1qa-6lFPAn"
      }
    },
    {
      "cell_type": "code",
      "execution_count": 1,
      "metadata": {
        "colab": {
          "base_uri": "https://localhost:8080/"
        },
        "id": "4WT8fugcq65V",
        "outputId": "8dd7318e-0aaa-4a74-cc9c-1f9b91d59f4d"
      },
      "outputs": [
        {
          "output_type": "stream",
          "name": "stdout",
          "text": [
            "Name       : Charlie Milaya\n",
            "Student_No : 202101869\n",
            "Age        : 18\n",
            "School     : Cavite State University\n",
            "Course     : BS Computer Engineering\n"
          ]
        }
      ],
      "source": [
        "class Student:\n",
        "  def __init__(self, Name, Student_No, Age, School, Course):\n",
        "    self.Name = Name\n",
        "    self.Student_No = Student_No\n",
        "    self.Age = Age\n",
        "    self.School = School\n",
        "    self.Course = Course\n",
        "  \n",
        "  def Info(self):\n",
        "    print(f\"Name       : {self.Name}\")\n",
        "    print(f\"Student_No : {self.Student_No}\")\n",
        "    print(f\"Age        : {self.Age}\")\n",
        "    print(f\"School     : {self.School}\")\n",
        "    print(f\"Course     : {self.Course}\")\n",
        "\n",
        "\n",
        "Myself = Student(\"Charlie Milaya\", 202101869, 18, \"Cavite State University\", \n",
        "                 \"BS Computer Engineering\")\n",
        "Myself.Info()"
      ]
    }
  ]
}
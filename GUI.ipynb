{
  "nbformat": 4,
  "nbformat_minor": 0,
  "metadata": {
    "colab": {
      "name": "GUI.ipynb",
      "provenance": [],
      "authorship_tag": "ABX9TyPiXyiRKA93aWnB/7u+2TID",
      "include_colab_link": true
    },
    "kernelspec": {
      "name": "python3",
      "display_name": "Python 3"
    },
    "language_info": {
      "name": "python"
    }
  },
  "cells": [
    {
      "cell_type": "markdown",
      "metadata": {
        "id": "view-in-github",
        "colab_type": "text"
      },
      "source": [
        "<a href=\"https://colab.research.google.com/github/milayacharlieCvSU/OOP-1-1/blob/main/GUI.ipynb\" target=\"_parent\"><img src=\"https://colab.research.google.com/assets/colab-badge.svg\" alt=\"Open In Colab\"/></a>"
      ]
    },
    {
      "cell_type": "markdown",
      "source": [
        "Students' Grade in OOP subject"
      ],
      "metadata": {
        "id": "adXV-PMQRoOJ"
      }
    },
    {
      "cell_type": "code",
      "execution_count": 3,
      "metadata": {
        "colab": {
          "base_uri": "https://localhost:8080/"
        },
        "id": "e_zwTZwpRl2p",
        "outputId": "bf978aa4-bb45-4fd4-a912-05f6e45d843a"
      },
      "outputs": [
        {
          "output_type": "stream",
          "name": "stdout",
          "text": [
            "My prelim grade is 91\n",
            "My midterm grade is 91\n",
            "My final grade is 95\n",
            "My semeatral grade is 92.33\n",
            "My birthdate is 2003-05-20\n"
          ]
        }
      ],
      "source": [
        "#@title Students' Grade in OOP\n",
        "student_name = \"Charlie Milaya\" #@param {type: \"string\"}\n",
        "prelim =  91#@param {type: \"integer\"}\n",
        "midterm =  91#@param {type: \"integer\"}\n",
        "final =  95#@param {type: \"integer\"}\n",
        "semestral_grade = (prelim + midterm + final)/3\n",
        "\n",
        "print(\"My prelim grade is\", prelim)\n",
        "print(\"My midterm grade is\", midterm)\n",
        "print(\"My final grade is\", final)\n",
        "print(\"My semeatral grade is\", round(semestral_grade, 2))\n",
        "\n",
        "Gender = \"Male\" #@param [\"Male\", \"Female\"]\n",
        "BirthDate = \"2003-05-20\" #@param {type: \"date\"}\n",
        "\n",
        "print(\"My birthdate is\", BirthDate)\n"
      ]
    },
    {
      "cell_type": "markdown",
      "source": [
        "Tkinter Module - PyCharm"
      ],
      "metadata": {
        "id": "UIkYD1VlYrJw"
      }
    },
    {
      "cell_type": "code",
      "source": [
        ""
      ],
      "metadata": {
        "id": "lGhpuriFYurW"
      },
      "execution_count": null,
      "outputs": []
    }
  ]
}
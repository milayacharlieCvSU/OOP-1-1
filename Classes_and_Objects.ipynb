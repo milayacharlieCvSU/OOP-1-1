{
  "nbformat": 4,
  "nbformat_minor": 0,
  "metadata": {
    "colab": {
      "name": "Classes and Objects.ipynb",
      "provenance": [],
      "collapsed_sections": [],
      "authorship_tag": "ABX9TyN8JFy7vTVSpxOr5eiFkffu",
      "include_colab_link": true
    },
    "kernelspec": {
      "name": "python3",
      "display_name": "Python 3"
    },
    "language_info": {
      "name": "python"
    }
  },
  "cells": [
    {
      "cell_type": "markdown",
      "metadata": {
        "id": "view-in-github",
        "colab_type": "text"
      },
      "source": [
        "<a href=\"https://colab.research.google.com/github/milayacharlieCvSU/OOP-1-1/blob/main/Classes_and_Objects.ipynb\" target=\"_parent\"><img src=\"https://colab.research.google.com/assets/colab-badge.svg\" alt=\"Open In Colab\"/></a>"
      ]
    },
    {
      "cell_type": "markdown",
      "source": [
        "Application 2 - Write a Python program that displays the full name of a student, student number, age, course, and school. Create an class name OOP_1_1 involving Info() method to display information of a student with fullname, student_no, age, course, school as attributes."
      ],
      "metadata": {
        "id": "l_4XYhOG0dVk"
      }
    },
    {
      "cell_type": "code",
      "execution_count": 3,
      "metadata": {
        "colab": {
          "base_uri": "https://localhost:8080/"
        },
        "id": "zE4qoL2oz8QQ",
        "outputId": "afd552e5-4f97-4a92-fe4a-924228f40a05"
      },
      "outputs": [
        {
          "output_type": "stream",
          "name": "stdout",
          "text": [
            "Full Name      : Charlie MIlaya\n",
            "Student Number : 202101869\n",
            "Age            : 18\n",
            "Course         : BSCpE\n",
            "School         : CvSU\n"
          ]
        }
      ],
      "source": [
        "class OOP_1_1:\n",
        "  def __init__(self, fullname, student_no, age, course, school):\n",
        "    self.fullname = fullname\n",
        "    self.student_no = student_no\n",
        "    self.age = age\n",
        "    self.course = course\n",
        "    self.school = school\n",
        "  \n",
        "  def Info(self):\n",
        "    # print(self.fullname, self.student_no, self.age, self.course, self.school)\n",
        "    print(\"Full Name      :\", self.fullname)\n",
        "    print(\"Student Number :\", self.student_no)\n",
        "    print(\"Age            :\", self.age)\n",
        "    print(\"Course         :\", self.course)\n",
        "    print(\"School         :\", self.school)\n",
        "\n",
        "student = OOP_1_1(\"Charlie MIlaya\", 202101869, 18, \"BSCpE\", \"CvSU\")\n",
        "student.Info()"
      ]
    },
    {
      "cell_type": "markdown",
      "source": [
        "Application 3 - Define an Area() method of the class Circle the calculates the circle's area. Define a Perimeter() method of the class which allows you to calculate the perimeter of the circle."
      ],
      "metadata": {
        "id": "ObevMCE_6a0p"
      }
    },
    {
      "cell_type": "code",
      "source": [
        "from math import pi\n",
        "class Circle:\n",
        "  def __init__(self, radius):\n",
        "    self.radius = radius\n",
        "  \n",
        "  def Area(self):\n",
        "    return pi*self.radius**2\n",
        "  \n",
        "  def Perimeter(self):\n",
        "    return 2*pi*self.radius\n",
        "  \n",
        "r1 = 10\n",
        "circ1 = Circle(r1)\n",
        "print(\"The circle having radius %g has area equal to %.4f and perimeter equal to %.4f.\" % \n",
        "      (r1, circ1.Area(), circ1.Perimeter()))"
      ],
      "metadata": {
        "colab": {
          "base_uri": "https://localhost:8080/"
        },
        "id": "rgMqaNBq6tnB",
        "outputId": "5a752c18-6177-41e9-d2af-8d311c626da0"
      },
      "execution_count": 7,
      "outputs": [
        {
          "output_type": "stream",
          "name": "stdout",
          "text": [
            "The circle having radius 10 has area equal to 314.1593 and perimeter equal to 62.8319.\n"
          ]
        }
      ]
    }
  ]
}